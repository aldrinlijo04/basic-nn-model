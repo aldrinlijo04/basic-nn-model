{
  "nbformat": 4,
  "nbformat_minor": 0,
  "metadata": {
    "colab": {
      "provenance": [],
      "gpuType": "T4",
      "authorship_tag": "ABX9TyOpWx8dgN7oGARVt1zYrvqw",
      "include_colab_link": true
    },
    "kernelspec": {
      "name": "python3",
      "display_name": "Python 3"
    },
    "language_info": {
      "name": "python"
    },
    "accelerator": "GPU"
  },
  "cells": [
    {
      "cell_type": "markdown",
      "metadata": {
        "id": "view-in-github",
        "colab_type": "text"
      },
      "source": [
        "<a href=\"https://colab.research.google.com/github/aldrinlijo04/basic-nn-model/blob/main/exp01.ipynb\" target=\"_parent\"><img src=\"https://colab.research.google.com/assets/colab-badge.svg\" alt=\"Open In Colab\"/></a>"
      ]
    },
    {
      "cell_type": "code",
      "execution_count": null,
      "metadata": {
        "id": "iw4elIdOAro_"
      },
      "outputs": [],
      "source": [
        "from google.colab import auth\n",
        "import gspread\n",
        "from google.auth import default\n",
        "import pandas as pd\n",
        "auth.authenticate_user()\n",
        "creds, _ = default()\n",
        "gc = gspread.authorize(creds)\n",
        "worksheet = gc.open('exp1').sheet1\n",
        "rows = worksheet.get_all_values()\n",
        "df = pd.DataFrame(rows[1:], columns=rows[0])"
      ]
    },
    {
      "cell_type": "code",
      "source": [
        "df.head()"
      ],
      "metadata": {
        "colab": {
          "base_uri": "https://localhost:8080/",
          "height": 206
        },
        "id": "lshF3d2AA4b1",
        "outputId": "4cfcae3a-282b-4143-83f8-ecf179321f4b"
      },
      "execution_count": null,
      "outputs": [
        {
          "output_type": "execute_result",
          "data": {
            "text/plain": [
              "  Input 1 (Number) Output\n",
              "0               13  0.785\n",
              "1               42  1.823\n",
              "2                7  0.427\n",
              "3                8  1.102\n",
              "4               10  0.927"
            ],
            "text/html": [
              "\n",
              "  <div id=\"df-483a35d7-d4bd-455a-936b-353254222eeb\" class=\"colab-df-container\">\n",
              "    <div>\n",
              "<style scoped>\n",
              "    .dataframe tbody tr th:only-of-type {\n",
              "        vertical-align: middle;\n",
              "    }\n",
              "\n",
              "    .dataframe tbody tr th {\n",
              "        vertical-align: top;\n",
              "    }\n",
              "\n",
              "    .dataframe thead th {\n",
              "        text-align: right;\n",
              "    }\n",
              "</style>\n",
              "<table border=\"1\" class=\"dataframe\">\n",
              "  <thead>\n",
              "    <tr style=\"text-align: right;\">\n",
              "      <th></th>\n",
              "      <th>Input 1 (Number)</th>\n",
              "      <th>Output</th>\n",
              "    </tr>\n",
              "  </thead>\n",
              "  <tbody>\n",
              "    <tr>\n",
              "      <th>0</th>\n",
              "      <td>13</td>\n",
              "      <td>0.785</td>\n",
              "    </tr>\n",
              "    <tr>\n",
              "      <th>1</th>\n",
              "      <td>42</td>\n",
              "      <td>1.823</td>\n",
              "    </tr>\n",
              "    <tr>\n",
              "      <th>2</th>\n",
              "      <td>7</td>\n",
              "      <td>0.427</td>\n",
              "    </tr>\n",
              "    <tr>\n",
              "      <th>3</th>\n",
              "      <td>8</td>\n",
              "      <td>1.102</td>\n",
              "    </tr>\n",
              "    <tr>\n",
              "      <th>4</th>\n",
              "      <td>10</td>\n",
              "      <td>0.927</td>\n",
              "    </tr>\n",
              "  </tbody>\n",
              "</table>\n",
              "</div>\n",
              "    <div class=\"colab-df-buttons\">\n",
              "\n",
              "  <div class=\"colab-df-container\">\n",
              "    <button class=\"colab-df-convert\" onclick=\"convertToInteractive('df-483a35d7-d4bd-455a-936b-353254222eeb')\"\n",
              "            title=\"Convert this dataframe to an interactive table.\"\n",
              "            style=\"display:none;\">\n",
              "\n",
              "  <svg xmlns=\"http://www.w3.org/2000/svg\" height=\"24px\" viewBox=\"0 -960 960 960\">\n",
              "    <path d=\"M120-120v-720h720v720H120Zm60-500h600v-160H180v160Zm220 220h160v-160H400v160Zm0 220h160v-160H400v160ZM180-400h160v-160H180v160Zm440 0h160v-160H620v160ZM180-180h160v-160H180v160Zm440 0h160v-160H620v160Z\"/>\n",
              "  </svg>\n",
              "    </button>\n",
              "\n",
              "  <style>\n",
              "    .colab-df-container {\n",
              "      display:flex;\n",
              "      gap: 12px;\n",
              "    }\n",
              "\n",
              "    .colab-df-convert {\n",
              "      background-color: #E8F0FE;\n",
              "      border: none;\n",
              "      border-radius: 50%;\n",
              "      cursor: pointer;\n",
              "      display: none;\n",
              "      fill: #1967D2;\n",
              "      height: 32px;\n",
              "      padding: 0 0 0 0;\n",
              "      width: 32px;\n",
              "    }\n",
              "\n",
              "    .colab-df-convert:hover {\n",
              "      background-color: #E2EBFA;\n",
              "      box-shadow: 0px 1px 2px rgba(60, 64, 67, 0.3), 0px 1px 3px 1px rgba(60, 64, 67, 0.15);\n",
              "      fill: #174EA6;\n",
              "    }\n",
              "\n",
              "    .colab-df-buttons div {\n",
              "      margin-bottom: 4px;\n",
              "    }\n",
              "\n",
              "    [theme=dark] .colab-df-convert {\n",
              "      background-color: #3B4455;\n",
              "      fill: #D2E3FC;\n",
              "    }\n",
              "\n",
              "    [theme=dark] .colab-df-convert:hover {\n",
              "      background-color: #434B5C;\n",
              "      box-shadow: 0px 1px 3px 1px rgba(0, 0, 0, 0.15);\n",
              "      filter: drop-shadow(0px 1px 2px rgba(0, 0, 0, 0.3));\n",
              "      fill: #FFFFFF;\n",
              "    }\n",
              "  </style>\n",
              "\n",
              "    <script>\n",
              "      const buttonEl =\n",
              "        document.querySelector('#df-483a35d7-d4bd-455a-936b-353254222eeb button.colab-df-convert');\n",
              "      buttonEl.style.display =\n",
              "        google.colab.kernel.accessAllowed ? 'block' : 'none';\n",
              "\n",
              "      async function convertToInteractive(key) {\n",
              "        const element = document.querySelector('#df-483a35d7-d4bd-455a-936b-353254222eeb');\n",
              "        const dataTable =\n",
              "          await google.colab.kernel.invokeFunction('convertToInteractive',\n",
              "                                                    [key], {});\n",
              "        if (!dataTable) return;\n",
              "\n",
              "        const docLinkHtml = 'Like what you see? Visit the ' +\n",
              "          '<a target=\"_blank\" href=https://colab.research.google.com/notebooks/data_table.ipynb>data table notebook</a>'\n",
              "          + ' to learn more about interactive tables.';\n",
              "        element.innerHTML = '';\n",
              "        dataTable['output_type'] = 'display_data';\n",
              "        await google.colab.output.renderOutput(dataTable, element);\n",
              "        const docLink = document.createElement('div');\n",
              "        docLink.innerHTML = docLinkHtml;\n",
              "        element.appendChild(docLink);\n",
              "      }\n",
              "    </script>\n",
              "  </div>\n",
              "\n",
              "\n",
              "<div id=\"df-d3c79c88-71a5-466d-9f65-20f6932434ba\">\n",
              "  <button class=\"colab-df-quickchart\" onclick=\"quickchart('df-d3c79c88-71a5-466d-9f65-20f6932434ba')\"\n",
              "            title=\"Suggest charts\"\n",
              "            style=\"display:none;\">\n",
              "\n",
              "<svg xmlns=\"http://www.w3.org/2000/svg\" height=\"24px\"viewBox=\"0 0 24 24\"\n",
              "     width=\"24px\">\n",
              "    <g>\n",
              "        <path d=\"M19 3H5c-1.1 0-2 .9-2 2v14c0 1.1.9 2 2 2h14c1.1 0 2-.9 2-2V5c0-1.1-.9-2-2-2zM9 17H7v-7h2v7zm4 0h-2V7h2v10zm4 0h-2v-4h2v4z\"/>\n",
              "    </g>\n",
              "</svg>\n",
              "  </button>\n",
              "\n",
              "<style>\n",
              "  .colab-df-quickchart {\n",
              "      --bg-color: #E8F0FE;\n",
              "      --fill-color: #1967D2;\n",
              "      --hover-bg-color: #E2EBFA;\n",
              "      --hover-fill-color: #174EA6;\n",
              "      --disabled-fill-color: #AAA;\n",
              "      --disabled-bg-color: #DDD;\n",
              "  }\n",
              "\n",
              "  [theme=dark] .colab-df-quickchart {\n",
              "      --bg-color: #3B4455;\n",
              "      --fill-color: #D2E3FC;\n",
              "      --hover-bg-color: #434B5C;\n",
              "      --hover-fill-color: #FFFFFF;\n",
              "      --disabled-bg-color: #3B4455;\n",
              "      --disabled-fill-color: #666;\n",
              "  }\n",
              "\n",
              "  .colab-df-quickchart {\n",
              "    background-color: var(--bg-color);\n",
              "    border: none;\n",
              "    border-radius: 50%;\n",
              "    cursor: pointer;\n",
              "    display: none;\n",
              "    fill: var(--fill-color);\n",
              "    height: 32px;\n",
              "    padding: 0;\n",
              "    width: 32px;\n",
              "  }\n",
              "\n",
              "  .colab-df-quickchart:hover {\n",
              "    background-color: var(--hover-bg-color);\n",
              "    box-shadow: 0 1px 2px rgba(60, 64, 67, 0.3), 0 1px 3px 1px rgba(60, 64, 67, 0.15);\n",
              "    fill: var(--button-hover-fill-color);\n",
              "  }\n",
              "\n",
              "  .colab-df-quickchart-complete:disabled,\n",
              "  .colab-df-quickchart-complete:disabled:hover {\n",
              "    background-color: var(--disabled-bg-color);\n",
              "    fill: var(--disabled-fill-color);\n",
              "    box-shadow: none;\n",
              "  }\n",
              "\n",
              "  .colab-df-spinner {\n",
              "    border: 2px solid var(--fill-color);\n",
              "    border-color: transparent;\n",
              "    border-bottom-color: var(--fill-color);\n",
              "    animation:\n",
              "      spin 1s steps(1) infinite;\n",
              "  }\n",
              "\n",
              "  @keyframes spin {\n",
              "    0% {\n",
              "      border-color: transparent;\n",
              "      border-bottom-color: var(--fill-color);\n",
              "      border-left-color: var(--fill-color);\n",
              "    }\n",
              "    20% {\n",
              "      border-color: transparent;\n",
              "      border-left-color: var(--fill-color);\n",
              "      border-top-color: var(--fill-color);\n",
              "    }\n",
              "    30% {\n",
              "      border-color: transparent;\n",
              "      border-left-color: var(--fill-color);\n",
              "      border-top-color: var(--fill-color);\n",
              "      border-right-color: var(--fill-color);\n",
              "    }\n",
              "    40% {\n",
              "      border-color: transparent;\n",
              "      border-right-color: var(--fill-color);\n",
              "      border-top-color: var(--fill-color);\n",
              "    }\n",
              "    60% {\n",
              "      border-color: transparent;\n",
              "      border-right-color: var(--fill-color);\n",
              "    }\n",
              "    80% {\n",
              "      border-color: transparent;\n",
              "      border-right-color: var(--fill-color);\n",
              "      border-bottom-color: var(--fill-color);\n",
              "    }\n",
              "    90% {\n",
              "      border-color: transparent;\n",
              "      border-bottom-color: var(--fill-color);\n",
              "    }\n",
              "  }\n",
              "</style>\n",
              "\n",
              "  <script>\n",
              "    async function quickchart(key) {\n",
              "      const quickchartButtonEl =\n",
              "        document.querySelector('#' + key + ' button');\n",
              "      quickchartButtonEl.disabled = true;  // To prevent multiple clicks.\n",
              "      quickchartButtonEl.classList.add('colab-df-spinner');\n",
              "      try {\n",
              "        const charts = await google.colab.kernel.invokeFunction(\n",
              "            'suggestCharts', [key], {});\n",
              "      } catch (error) {\n",
              "        console.error('Error during call to suggestCharts:', error);\n",
              "      }\n",
              "      quickchartButtonEl.classList.remove('colab-df-spinner');\n",
              "      quickchartButtonEl.classList.add('colab-df-quickchart-complete');\n",
              "    }\n",
              "    (() => {\n",
              "      let quickchartButtonEl =\n",
              "        document.querySelector('#df-d3c79c88-71a5-466d-9f65-20f6932434ba button');\n",
              "      quickchartButtonEl.style.display =\n",
              "        google.colab.kernel.accessAllowed ? 'block' : 'none';\n",
              "    })();\n",
              "  </script>\n",
              "</div>\n",
              "\n",
              "    </div>\n",
              "  </div>\n"
            ],
            "application/vnd.google.colaboratory.intrinsic+json": {
              "type": "dataframe",
              "variable_name": "df",
              "summary": "{\n  \"name\": \"df\",\n  \"rows\": 32,\n  \"fields\": [\n    {\n      \"column\": \"Input 1 (Number)\",\n      \"properties\": {\n        \"dtype\": \"string\",\n        \"samples\": [\n          \"123\",\n          \"61\",\n          \"102\"\n        ],\n        \"num_unique_values\": 32,\n        \"semantic_type\": \"\",\n        \"description\": \"\"\n      }\n    },\n    {\n      \"column\": \"Output\",\n      \"properties\": {\n        \"dtype\": \"string\",\n        \"samples\": [\n          \"1.698\",\n          \"0.959\",\n          \"1.381\"\n        ],\n        \"num_unique_values\": 32,\n        \"semantic_type\": \"\",\n        \"description\": \"\"\n      }\n    }\n  ]\n}"
            }
          },
          "metadata": {},
          "execution_count": 78
        }
      ]
    },
    {
      "cell_type": "code",
      "source": [
        "import pandas as pd\n",
        "import seaborn as sns\n",
        "df['Input 1 (Number)'] = pd.to_numeric(df['Input 1 (Number)'])\n",
        "sns.pairplot(df)\n"
      ],
      "metadata": {
        "colab": {
          "base_uri": "https://localhost:8080/",
          "height": 285
        },
        "id": "4UMTriaHB_R_",
        "outputId": "091254d1-a1a2-4b96-a876-ff56b35adec3"
      },
      "execution_count": null,
      "outputs": [
        {
          "output_type": "execute_result",
          "data": {
            "text/plain": [
              "<seaborn.axisgrid.PairGrid at 0x793ba839aaa0>"
            ]
          },
          "metadata": {},
          "execution_count": 79
        },
        {
          "output_type": "display_data",
          "data": {
            "text/plain": [
              "<Figure size 250x250 with 2 Axes>"
            ],
            "image/png": "[encoded data removed]"
          },
          "metadata": {}
        }
      ]
    },
    {
      "cell_type": "code",
      "source": [
        "df['Input 1 (Number)'] = pd.to_numeric(df['Input 1 (Number)'])\n",
        "df['Output'] = pd.to_numeric(df['Output'])"
      ],
      "metadata": {
        "id": "o-WqKb-1B5Xu"
      },
      "execution_count": null,
      "outputs": []
    },
    {
      "cell_type": "code",
      "source": [
        "df.columns"
      ],
      "metadata": {
        "colab": {
          "base_uri": "https://localhost:8080/"
        },
        "id": "jON3nng2DS8r",
        "outputId": "9964da32-d4d8-4da6-b0fa-c4146fedc832"
      },
      "execution_count": null,
      "outputs": [
        {
          "output_type": "execute_result",
          "data": {
            "text/plain": [
              "Index(['Input 1 (Number)', 'Output'], dtype='object')"
            ]
          },
          "metadata": {},
          "execution_count": 81
        }
      ]
    },
    {
      "cell_type": "code",
      "source": [
        "X = df['Input 1 (Number)']\n",
        "y=df['Output']"
      ],
      "metadata": {
        "id": "-zuRB08KDdM5"
      },
      "execution_count": null,
      "outputs": []
    },
    {
      "cell_type": "code",
      "source": [
        "from sklearn.model_selection import train_test_split\n",
        "x_train,x_test,y_train,y_test = train_test_split(X,y,test_size=0.2,random_state=42)\n"
      ],
      "metadata": {
        "id": "-ad_oM_PDjOB"
      },
      "execution_count": null,
      "outputs": []
    },
    {
      "cell_type": "code",
      "source": [
        "x_train = x_train.values.reshape(-1, 1)\n",
        "x_test = x_test.values.reshape(-1, 1)"
      ],
      "metadata": {
        "id": "l-KlKGlTHGBP"
      },
      "execution_count": null,
      "outputs": []
    },
    {
      "cell_type": "code",
      "source": [
        "from sklearn.preprocessing import MinMaxScaler\n",
        "M = MinMaxScaler()\n",
        "x_train = M.fit_transform(x_train)\n"
      ],
      "metadata": {
        "id": "K8lbbXo4E-dn"
      },
      "execution_count": null,
      "outputs": []
    },
    {
      "cell_type": "code",
      "source": [
        "from tensorflow.keras.models import Sequential\n",
        "from tensorflow.keras.layers import Dense,Dropout"
      ],
      "metadata": {
        "id": "l1uqSGWdGYFY"
      },
      "execution_count": null,
      "outputs": []
    },
    {
      "cell_type": "code",
      "source": [
        "model = Sequential()\n",
        "model.add(Dense(15,activation='relu',input_shape=x_train.shape))\n",
        "model.add(Dense(10,activation='relu'))\n",
        "model.add(Dense(1))"
      ],
      "metadata": {
        "id": "eV1YwE3IHRxj"
      },
      "execution_count": null,
      "outputs": []
    },
    {
      "cell_type": "code",
      "source": [
        "model.summary()"
      ],
      "metadata": {
        "colab": {
          "base_uri": "https://localhost:8080/"
        },
        "id": "R5hn1eI0IJ53",
        "outputId": "a932b1c2-b37d-4d8e-caf2-905c15459650"
      },
      "execution_count": null,
      "outputs": [
        {
          "output_type": "stream",
          "name": "stdout",
          "text": [
            "Model: \"sequential_2\"\n",
            "_________________________________________________________________\n",
            " Layer (type)                Output Shape              Param #   \n",
            "=================================================================\n",
            " dense_6 (Dense)             (None, 25, 15)            30        \n",
            "                                                                 \n",
            " dense_7 (Dense)             (None, 25, 10)            160       \n",
            "                                                                 \n",
            " dense_8 (Dense)             (None, 25, 1)             11        \n",
            "                                                                 \n",
            "=================================================================\n",
            "Total params: 201 (804.00 Byte)\n",
            "Trainable params: 201 (804.00 Byte)\n",
            "Non-trainable params: 0 (0.00 Byte)\n",
            "_________________________________________________________________\n"
          ]
        }
      ]
    },
    {
      "cell_type": "code",
      "source": [
        "model.compile(optimizer='rmsprop',loss='mse')"
      ],
      "metadata": {
        "id": "QJby-G38IL2s"
      },
      "execution_count": null,
      "outputs": []
    },
    {
      "cell_type": "code",
      "source": [
        "model.fit(x_train,y_train,epochs=80)"
      ],
      "metadata": {
        "colab": {
          "base_uri": "https://localhost:8080/"
        },
        "id": "NSwjrUWrIchR",
        "outputId": "2d1e2d0a-a54a-4818-cb59-a39330e08f3c"
      },
      "execution_count": null,
      "outputs": [
        {
          "output_type": "stream",
          "name": "stdout",
          "text": [
            "Epoch 1/80\n",
            "1/1 [==============================] - 1s 706ms/step - loss: 1.5975\n",
            "Epoch 2/80\n",
            "1/1 [==============================] - 0s 9ms/step - loss: 1.5477\n",
            "Epoch 3/80\n",
            "1/1 [==============================] - 0s 11ms/step - loss: 1.5147\n",
            "Epoch 4/80\n",
            "1/1 [==============================] - 0s 10ms/step - loss: 1.4894\n",
            "Epoch 5/80\n",
            "1/1 [==============================] - 0s 9ms/step - loss: 1.4685\n",
            "Epoch 6/80\n",
            "1/1 [==============================] - 0s 10ms/step - loss: 1.4498\n",
            "Epoch 7/80\n",
            "1/1 [==============================] - 0s 10ms/step - loss: 1.4333\n",
            "Epoch 8/80\n",
            "1/1 [==============================] - 0s 11ms/step - loss: 1.4187\n",
            "Epoch 9/80\n",
            "1/1 [==============================] - 0s 11ms/step - loss: 1.4057\n",
            "Epoch 10/80\n",
            "1/1 [==============================] - 0s 9ms/step - loss: 1.3934\n",
            "Epoch 11/80\n",
            "1/1 [==============================] - 0s 10ms/step - loss: 1.3827\n",
            "Epoch 12/80\n",
            "1/1 [==============================] - 0s 10ms/step - loss: 1.3711\n",
            "Epoch 13/80\n",
            "1/1 [==============================] - 0s 12ms/step - loss: 1.3604\n",
            "Epoch 14/80\n",
            "1/1 [==============================] - 0s 12ms/step - loss: 1.3511\n",
            "Epoch 15/80\n",
            "1/1 [==============================] - 0s 9ms/step - loss: 1.3408\n",
            "Epoch 16/80\n",
            "1/1 [==============================] - 0s 9ms/step - loss: 1.3309\n",
            "Epoch 17/80\n",
            "1/1 [==============================] - 0s 9ms/step - loss: 1.3212\n",
            "Epoch 18/80\n",
            "1/1 [==============================] - 0s 11ms/step - loss: 1.3117\n",
            "Epoch 19/80\n",
            "1/1 [==============================] - 0s 11ms/step - loss: 1.3017\n",
            "Epoch 20/80\n",
            "1/1 [==============================] - 0s 9ms/step - loss: 1.2920\n",
            "Epoch 21/80\n",
            "1/1 [==============================] - 0s 12ms/step - loss: 1.2825\n",
            "Epoch 22/80\n",
            "1/1 [==============================] - 0s 9ms/step - loss: 1.2735\n",
            "Epoch 23/80\n",
            "1/1 [==============================] - 0s 10ms/step - loss: 1.2646\n",
            "Epoch 24/80\n",
            "1/1 [==============================] - 0s 12ms/step - loss: 1.2555\n",
            "Epoch 25/80\n",
            "1/1 [==============================] - 0s 12ms/step - loss: 1.2465\n",
            "Epoch 26/80\n",
            "1/1 [==============================] - 0s 10ms/step - loss: 1.2378\n",
            "Epoch 27/80\n",
            "1/1 [==============================] - 0s 9ms/step - loss: 1.2294\n",
            "Epoch 28/80\n",
            "1/1 [==============================] - 0s 9ms/step - loss: 1.2211\n",
            "Epoch 29/80\n",
            "1/1 [==============================] - 0s 14ms/step - loss: 1.2127\n",
            "Epoch 30/80\n",
            "1/1 [==============================] - 0s 12ms/step - loss: 1.2044\n",
            "Epoch 31/80\n",
            "1/1 [==============================] - 0s 11ms/step - loss: 1.1962\n",
            "Epoch 32/80\n",
            "1/1 [==============================] - 0s 11ms/step - loss: 1.1879\n",
            "Epoch 33/80\n",
            "1/1 [==============================] - 0s 10ms/step - loss: 1.1795\n",
            "Epoch 34/80\n",
            "1/1 [==============================] - 0s 10ms/step - loss: 1.1711\n",
            "Epoch 35/80\n",
            "1/1 [==============================] - 0s 10ms/step - loss: 1.1628\n",
            "Epoch 36/80\n",
            "1/1 [==============================] - 0s 10ms/step - loss: 1.1544\n",
            "Epoch 37/80\n",
            "1/1 [==============================] - 0s 9ms/step - loss: 1.1460\n",
            "Epoch 38/80\n",
            "1/1 [==============================] - 0s 10ms/step - loss: 1.1375\n",
            "Epoch 39/80\n",
            "1/1 [==============================] - 0s 9ms/step - loss: 1.1291\n",
            "Epoch 40/80\n",
            "1/1 [==============================] - 0s 10ms/step - loss: 1.1206\n",
            "Epoch 41/80\n",
            "1/1 [==============================] - 0s 10ms/step - loss: 1.1121\n",
            "Epoch 42/80\n",
            "1/1 [==============================] - 0s 10ms/step - loss: 1.1037\n",
            "Epoch 43/80\n",
            "1/1 [==============================] - 0s 10ms/step - loss: 1.0956\n",
            "Epoch 44/80\n",
            "1/1 [==============================] - 0s 9ms/step - loss: 1.0874\n",
            "Epoch 45/80\n",
            "1/1 [==============================] - 0s 11ms/step - loss: 1.0793\n",
            "Epoch 46/80\n",
            "1/1 [==============================] - 0s 9ms/step - loss: 1.0711\n",
            "Epoch 47/80\n",
            "1/1 [==============================] - 0s 9ms/step - loss: 1.0629\n",
            "Epoch 48/80\n",
            "1/1 [==============================] - 0s 9ms/step - loss: 1.0546\n",
            "Epoch 49/80\n",
            "1/1 [==============================] - 0s 10ms/step - loss: 1.0464\n",
            "Epoch 50/80\n",
            "1/1 [==============================] - 0s 10ms/step - loss: 1.0381\n",
            "Epoch 51/80\n",
            "1/1 [==============================] - 0s 11ms/step - loss: 1.0298\n",
            "Epoch 52/80\n",
            "1/1 [==============================] - 0s 10ms/step - loss: 1.0215\n",
            "Epoch 53/80\n",
            "1/1 [==============================] - 0s 16ms/step - loss: 1.0132\n",
            "Epoch 54/80\n",
            "1/1 [==============================] - 0s 11ms/step - loss: 1.0048\n",
            "Epoch 55/80\n",
            "1/1 [==============================] - 0s 10ms/step - loss: 0.9964\n",
            "Epoch 56/80\n",
            "1/1 [==============================] - 0s 10ms/step - loss: 0.9881\n",
            "Epoch 57/80\n",
            "1/1 [==============================] - 0s 16ms/step - loss: 0.9797\n",
            "Epoch 58/80\n",
            "1/1 [==============================] - 0s 15ms/step - loss: 0.9713\n",
            "Epoch 59/80\n",
            "1/1 [==============================] - 0s 11ms/step - loss: 0.9628\n",
            "Epoch 60/80\n",
            "1/1 [==============================] - 0s 10ms/step - loss: 0.9544\n",
            "Epoch 61/80\n",
            "1/1 [==============================] - 0s 11ms/step - loss: 0.9460\n",
            "Epoch 62/80\n",
            "1/1 [==============================] - 0s 11ms/step - loss: 0.9375\n",
            "Epoch 63/80\n",
            "1/1 [==============================] - 0s 14ms/step - loss: 0.9290\n",
            "Epoch 64/80\n",
            "1/1 [==============================] - 0s 15ms/step - loss: 0.9205\n",
            "Epoch 65/80\n",
            "1/1 [==============================] - 0s 11ms/step - loss: 0.9120\n",
            "Epoch 66/80\n",
            "1/1 [==============================] - 0s 12ms/step - loss: 0.9036\n",
            "Epoch 67/80\n",
            "1/1 [==============================] - 0s 13ms/step - loss: 0.8951\n",
            "Epoch 68/80\n",
            "1/1 [==============================] - 0s 12ms/step - loss: 0.8866\n",
            "Epoch 69/80\n",
            "1/1 [==============================] - 0s 16ms/step - loss: 0.8781\n",
            "Epoch 70/80\n",
            "1/1 [==============================] - 0s 13ms/step - loss: 0.8696\n",
            "Epoch 71/80\n",
            "1/1 [==============================] - 0s 10ms/step - loss: 0.8610\n",
            "Epoch 72/80\n",
            "1/1 [==============================] - 0s 16ms/step - loss: 0.8525\n",
            "Epoch 73/80\n",
            "1/1 [==============================] - 0s 14ms/step - loss: 0.8440\n",
            "Epoch 74/80\n",
            "1/1 [==============================] - 0s 12ms/step - loss: 0.8355\n",
            "Epoch 75/80\n",
            "1/1 [==============================] - 0s 11ms/step - loss: 0.8270\n",
            "Epoch 76/80\n",
            "1/1 [==============================] - 0s 11ms/step - loss: 0.8185\n",
            "Epoch 77/80\n",
            "1/1 [==============================] - 0s 11ms/step - loss: 0.8100\n",
            "Epoch 78/80\n",
            "1/1 [==============================] - 0s 10ms/step - loss: 0.8015\n",
            "Epoch 79/80\n",
            "1/1 [==============================] - 0s 15ms/step - loss: 0.7930\n",
            "Epoch 80/80\n",
            "1/1 [==============================] - 0s 13ms/step - loss: 0.7845\n"
          ]
        },
        {
          "output_type": "execute_result",
          "data": {
            "text/plain": [
              "<keras.src.callbacks.History at 0x793bb17f4250>"
            ]
          },
          "metadata": {},
          "execution_count": 90
        }
      ]
    },
    {
      "cell_type": "code",
      "source": [
        "model.history"
      ],
      "metadata": {
        "colab": {
          "base_uri": "https://localhost:8080/"
        },
        "id": "hf39mQPqI6e3",
        "outputId": "cbcf82e1-a3da-4386-95d5-da1d8782ed38"
      },
      "execution_count": null,
      "outputs": [
        {
          "output_type": "execute_result",
          "data": {
            "text/plain": [
              "<keras.src.callbacks.History at 0x793bb17f4250>"
            ]
          },
          "metadata": {},
          "execution_count": 91
        }
      ]
    },
    {
      "cell_type": "code",
      "source": [
        "loss_df = pd.DataFrame(model.history.history)"
      ],
      "metadata": {
        "id": "MIj6mmMXKqbW"
      },
      "execution_count": null,
      "outputs": []
    },
    {
      "cell_type": "code",
      "source": [
        "loss_df.plot()"
      ],
      "metadata": {
        "colab": {
          "base_uri": "https://localhost:8080/",
          "height": 447
        },
        "id": "Rj-Y8sQ4MZB8",
        "outputId": "5111b806-e97a-4d27-a1e1-cb14942c7eac"
      },
      "execution_count": null,
      "outputs": [
        {
          "output_type": "execute_result",
          "data": {
            "text/plain": [
              "<Axes: >"
            ]
          },
          "metadata": {},
          "execution_count": 93
        },
        {
          "output_type": "display_data",
          "data": {
            "text/plain": [
              "<Figure size 640x480 with 1 Axes>"
            ],
            "image/png": "[encoded data removed]"
          },
          "metadata": {}
        }
      ]
    },
    {
      "cell_type": "code",
      "source": [
        "y_pred=model.predict(x_test)"
      ],
      "metadata": {
        "colab": {
          "base_uri": "https://localhost:8080/"
        },
        "id": "RYhDK5-yMbIl",
        "outputId": "816aa3d4-3d43-4bdc-c78f-dd517496ac03"
      },
      "execution_count": null,
      "outputs": [
        {
          "output_type": "stream",
          "name": "stdout",
          "text": [
            "1/1 [==============================] - 0s 215ms/step\n"
          ]
        }
      ]
    },
    {
      "cell_type": "code",
      "source": [
        "y_pred"
      ],
      "metadata": {
        "colab": {
          "base_uri": "https://localhost:8080/"
        },
        "id": "x7dQ_bK_rIIo",
        "outputId": "28fe6831-27b3-46bf-d9fa-9c5e667ce3a7"
      },
      "execution_count": null,
      "outputs": [
        {
          "output_type": "execute_result",
          "data": {
            "text/plain": [
              "array([[[41.922314]],\n",
              "\n",
              "       [[20.96608 ]],\n",
              "\n",
              "       [[34.824234]],\n",
              "\n",
              "       [[24.684122]],\n",
              "\n",
              "       [[10.825964]],\n",
              "\n",
              "       [[11.839975]],\n",
              "\n",
              "       [[67.272606]]], dtype=float32)"
            ]
          },
          "metadata": {},
          "execution_count": 98
        }
      ]
    },
    {
      "cell_type": "code",
      "source": [],
      "metadata": {
        "id": "SQJ0InMyrKtK"
      },
      "execution_count": null,
      "outputs": []
    }
  ]
}